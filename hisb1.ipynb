{
  "nbformat": 4,
  "nbformat_minor": 0,
  "metadata": {
    "colab": {
      "provenance": [],
      "authorship_tag": "ABX9TyP+qiObP7wanF9sssnA9kgu",
      "include_colab_link": true
    },
    "kernelspec": {
      "name": "python3",
      "display_name": "Python 3"
    },
    "language_info": {
      "name": "python"
    }
  },
  "cells": [
    {
      "cell_type": "markdown",
      "metadata": {
        "id": "view-in-github",
        "colab_type": "text"
      },
      "source": [
        "<a href=\"https://colab.research.google.com/github/krisibraynova01/HISB/blob/main/hisb1.ipynb\" target=\"_parent\"><img src=\"https://colab.research.google.com/assets/colab-badge.svg\" alt=\"Open In Colab\"/></a>"
      ]
    },
    {
      "cell_type": "markdown",
      "source": [
        "**Прогнозиране на приоритет на инцидент въз основа на избрани атрибути**"
      ],
      "metadata": {
        "id": "5P6ZtSgcMcjT"
      }
    },
    {
      "cell_type": "code",
      "source": [
        "import numpy as np\n",
        "import pandas as pd\n",
        "import matplotlib.pyplot as plt"
      ],
      "metadata": {
        "id": "TCUKEfIiMljs"
      },
      "execution_count": null,
      "outputs": []
    },
    {
      "cell_type": "code",
      "source": [
        "df = pd.read_csv('incident_event_log.csv')"
      ],
      "metadata": {
        "id": "CiM_u4qvMqZ_"
      },
      "execution_count": null,
      "outputs": []
    },
    {
      "cell_type": "code",
      "source": [
        "df.head()"
      ],
      "metadata": {
        "id": "vaHR-hBUVGA7"
      },
      "execution_count": null,
      "outputs": []
    },
    {
      "cell_type": "markdown",
      "source": [
        "**Подготвка на данните: Предварителна обработка на данни**"
      ],
      "metadata": {
        "id": "Sj_CTVfxVLTK"
      }
    },
    {
      "cell_type": "markdown",
      "source": [
        "От визуализацията на данните се установява, че има някои колони, в които липсва информация, представена с „?“, или в почти всички записи, или в по-голямата част от записите. Трябва да се премахнат всички тези колони, където липсващата информация е в повече от една трета от общия брой редове\n",
        "\n"
      ],
      "metadata": {
        "id": "PkGK6ag0VTOu"
      }
    },
    {
      "cell_type": "code",
      "source": [
        "max_bad = 50000 \n",
        "df2 = df.loc[:,[(len(df[df[x]=='?']) < max_bad) for x in df.columns]]"
      ],
      "metadata": {
        "id": "6jxW5d6JVpNf"
      },
      "execution_count": null,
      "outputs": []
    },
    {
      "cell_type": "code",
      "source": [
        "df2.info(verbose=False)"
      ],
      "metadata": {
        "id": "SQRFiiRAVyTr"
      },
      "execution_count": null,
      "outputs": []
    },
    {
      "cell_type": "code",
      "source": [
        "df2 = df2.replace('?',np.nan)"
      ],
      "metadata": {
        "id": "XMk-4XHoV1sP"
      },
      "execution_count": null,
      "outputs": []
    },
    {
      "cell_type": "code",
      "source": [
        "df2 = df2.dropna(axis = 0)"
      ],
      "metadata": {
        "id": "B0hXBGToV3e4"
      },
      "execution_count": null,
      "outputs": []
    },
    {
      "cell_type": "code",
      "source": [
        "df2.info(verbose=False)"
      ],
      "metadata": {
        "colab": {
          "base_uri": "https://localhost:8080/"
        },
        "id": "XP0PLJTTV6O4",
        "outputId": "515187e8-56fa-4793-ed83-26d9418bc35e"
      },
      "execution_count": null,
      "outputs": [
        {
          "output_type": "stream",
          "name": "stdout",
          "text": [
            "<class 'pandas.core.frame.DataFrame'>\n",
            "Int64Index: 75230 entries, 4 to 141711\n",
            "Columns: 29 entries, number to closed_at\n",
            "dtypes: bool(4), int64(3), object(22)\n",
            "memory usage: 15.2+ MB\n"
          ]
        },
        {
          "output_type": "stream",
          "name": "stderr",
          "text": [
            "/usr/local/lib/python3.10/dist-packages/ipykernel/ipkernel.py:283: DeprecationWarning: `should_run_async` will not call `transform_cell` automatically in the future. Please pass the result to `transformed_cell` argument and any exception that happen during thetransform in `preprocessing_exc_tuple` in IPython 7.17 and above.\n",
            "  and should_run_async(code)\n"
          ]
        }
      ]
    },
    {
      "cell_type": "code",
      "source": [
        "df2.columns"
      ],
      "metadata": {
        "colab": {
          "base_uri": "https://localhost:8080/"
        },
        "id": "uP1zxeUVV76A",
        "outputId": "fbb99d73-1aed-47fc-e087-4ecddd41a3a2"
      },
      "execution_count": null,
      "outputs": [
        {
          "output_type": "stream",
          "name": "stderr",
          "text": [
            "/usr/local/lib/python3.10/dist-packages/ipykernel/ipkernel.py:283: DeprecationWarning: `should_run_async` will not call `transform_cell` automatically in the future. Please pass the result to `transformed_cell` argument and any exception that happen during thetransform in `preprocessing_exc_tuple` in IPython 7.17 and above.\n",
            "  and should_run_async(code)\n"
          ]
        },
        {
          "output_type": "execute_result",
          "data": {
            "text/plain": [
              "Index(['number', 'incident_state', 'active', 'reassignment_count',\n",
              "       'reopen_count', 'sys_mod_count', 'made_sla', 'caller_id', 'opened_by',\n",
              "       'opened_at', 'sys_updated_by', 'sys_updated_at', 'contact_type',\n",
              "       'location', 'category', 'subcategory', 'u_symptom', 'impact', 'urgency',\n",
              "       'priority', 'assignment_group', 'assigned_to', 'knowledge',\n",
              "       'u_priority_confirmation', 'notify', 'closed_code', 'resolved_by',\n",
              "       'resolved_at', 'closed_at'],\n",
              "      dtype='object')"
            ]
          },
          "metadata": {},
          "execution_count": 41
        }
      ]
    },
    {
      "cell_type": "markdown",
      "source": [
        "Сега този набор от данни е много по-управляем по размер и няма липсваща информация.\n",
        "Ще премахнем всички колони, които не влияят на резултата.\n",
        "Колоните за въздействие и спешност заедно определят приоритета. Тъй като вече имаме приоритет, който ще бъде нашата променлива на резултата, можем да премахнем въздействието и спешността."
      ],
      "metadata": {
        "id": "C0wTSAwiWUO8"
      }
    },
    {
      "cell_type": "code",
      "source": [
        "df3= df2.drop(['number','notify', 'resolved_by','sys_updated_at','impact', 'urgency'], axis=1)"
      ],
      "metadata": {
        "id": "5Jig4tloV-Nf"
      },
      "execution_count": null,
      "outputs": []
    },
    {
      "cell_type": "code",
      "source": [
        "print(df3['incident_state'].unique())"
      ],
      "metadata": {
        "colab": {
          "base_uri": "https://localhost:8080/"
        },
        "id": "jHbdwHplWBPX",
        "outputId": "61b69528-255a-45a4-f267-107703936203"
      },
      "execution_count": null,
      "outputs": [
        {
          "output_type": "stream",
          "name": "stdout",
          "text": [
            "['New' 'Active' 'Awaiting User Info' 'Resolved' 'Closed'\n",
            " 'Awaiting Problem' 'Awaiting Vendor' 'Awaiting Evidence']\n"
          ]
        },
        {
          "output_type": "stream",
          "name": "stderr",
          "text": [
            "/usr/local/lib/python3.10/dist-packages/ipykernel/ipkernel.py:283: DeprecationWarning: `should_run_async` will not call `transform_cell` automatically in the future. Please pass the result to `transformed_cell` argument and any exception that happen during thetransform in `preprocessing_exc_tuple` in IPython 7.17 and above.\n",
            "  and should_run_async(code)\n"
          ]
        }
      ]
    },
    {
      "cell_type": "markdown",
      "source": [
        "Трябва да се запазят само редовете, които ни казват за състоянието на нов инцидент, тъй като се опитваме да предвидим приоритета на инцидентите, който се решава веднага след отварянето на инцидент (в повечето случаи)"
      ],
      "metadata": {
        "id": "qXe6vCS1WgS9"
      }
    },
    {
      "cell_type": "code",
      "source": [
        "df_new = df3.drop(SNow3[SNow3['incident_state']!='New'].index)"
      ],
      "metadata": {
        "id": "fUNpQd34WEug"
      },
      "execution_count": null,
      "outputs": []
    },
    {
      "cell_type": "code",
      "source": [
        "df_new.info(verbose=False)"
      ],
      "metadata": {
        "colab": {
          "base_uri": "https://localhost:8080/"
        },
        "id": "7j0fY0tuWE0f",
        "outputId": "356d7596-072d-4ac4-e97e-c5a323230673"
      },
      "execution_count": null,
      "outputs": [
        {
          "output_type": "stream",
          "name": "stdout",
          "text": [
            "<class 'pandas.core.frame.DataFrame'>\n",
            "Int64Index: 15268 entries, 4 to 141390\n",
            "Columns: 23 entries, incident_state to closed_at\n",
            "dtypes: bool(4), int64(3), object(16)\n",
            "memory usage: 2.4+ MB\n"
          ]
        },
        {
          "output_type": "stream",
          "name": "stderr",
          "text": [
            "/usr/local/lib/python3.10/dist-packages/ipykernel/ipkernel.py:283: DeprecationWarning: `should_run_async` will not call `transform_cell` automatically in the future. Please pass the result to `transformed_cell` argument and any exception that happen during thetransform in `preprocessing_exc_tuple` in IPython 7.17 and above.\n",
            "  and should_run_async(code)\n"
          ]
        }
      ]
    },
    {
      "cell_type": "code",
      "source": [
        "print(df_new['priority'].unique())"
      ],
      "metadata": {
        "colab": {
          "base_uri": "https://localhost:8080/"
        },
        "id": "TAoHVeI6WE54",
        "outputId": "fc901f1d-3409-421f-92f5-71fd5eea31e1"
      },
      "execution_count": null,
      "outputs": [
        {
          "output_type": "stream",
          "name": "stdout",
          "text": [
            "['3 - Moderate' '4 - Low' '2 - High' '1 - Critical']\n"
          ]
        },
        {
          "output_type": "stream",
          "name": "stderr",
          "text": [
            "/usr/local/lib/python3.10/dist-packages/ipykernel/ipkernel.py:283: DeprecationWarning: `should_run_async` will not call `transform_cell` automatically in the future. Please pass the result to `transformed_cell` argument and any exception that happen during thetransform in `preprocessing_exc_tuple` in IPython 7.17 and above.\n",
            "  and should_run_async(code)\n"
          ]
        }
      ]
    },
    {
      "cell_type": "code",
      "source": [
        "df_new.columns"
      ],
      "metadata": {
        "colab": {
          "base_uri": "https://localhost:8080/"
        },
        "id": "nS84Hf7jWE8Y",
        "outputId": "c69941a4-69dc-4fce-f839-8d738d313baf"
      },
      "execution_count": null,
      "outputs": [
        {
          "output_type": "stream",
          "name": "stderr",
          "text": [
            "/usr/local/lib/python3.10/dist-packages/ipykernel/ipkernel.py:283: DeprecationWarning: `should_run_async` will not call `transform_cell` automatically in the future. Please pass the result to `transformed_cell` argument and any exception that happen during thetransform in `preprocessing_exc_tuple` in IPython 7.17 and above.\n",
            "  and should_run_async(code)\n"
          ]
        },
        {
          "output_type": "execute_result",
          "data": {
            "text/plain": [
              "Index(['incident_state', 'active', 'reassignment_count', 'reopen_count',\n",
              "       'sys_mod_count', 'made_sla', 'caller_id', 'opened_by', 'opened_at',\n",
              "       'sys_updated_by', 'contact_type', 'location', 'category', 'subcategory',\n",
              "       'u_symptom', 'priority', 'assignment_group', 'assigned_to', 'knowledge',\n",
              "       'u_priority_confirmation', 'closed_code', 'resolved_at', 'closed_at'],\n",
              "      dtype='object')"
            ]
          },
          "metadata": {},
          "execution_count": 48
        }
      ]
    },
    {
      "cell_type": "markdown",
      "source": [
        "Изчисляване на времето за завършване на инцидентите в брой дни"
      ],
      "metadata": {
        "id": "dIO7dj4DWzZ0"
      }
    },
    {
      "cell_type": "code",
      "source": [
        "df_new['completion_days'] = pd.to_datetime(df_new['closed_at']) - pd.to_datetime(df_new['opened_at'])"
      ],
      "metadata": {
        "id": "mEjETxRqWFBP"
      },
      "execution_count": null,
      "outputs": []
    },
    {
      "cell_type": "code",
      "source": [
        "df_new.drop(['incident_state','active','resolved_at','closed_at','opened_at'], axis=1,inplace=True)"
      ],
      "metadata": {
        "id": "lC2CsNXtW6S4"
      },
      "execution_count": null,
      "outputs": []
    },
    {
      "cell_type": "code",
      "source": [
        "df_new.head()"
      ],
      "metadata": {
        "colab": {
          "base_uri": "https://localhost:8080/",
          "height": 391
        },
        "id": "eVhZxUa0W6Yx",
        "outputId": "88156a06-5ff2-4831-867b-1091cc2f9293"
      },
      "execution_count": null,
      "outputs": [
        {
          "output_type": "stream",
          "name": "stderr",
          "text": [
            "/usr/local/lib/python3.10/dist-packages/ipykernel/ipkernel.py:283: DeprecationWarning: `should_run_async` will not call `transform_cell` automatically in the future. Please pass the result to `transformed_cell` argument and any exception that happen during thetransform in `preprocessing_exc_tuple` in IPython 7.17 and above.\n",
            "  and should_run_async(code)\n"
          ]
        },
        {
          "output_type": "execute_result",
          "data": {
            "text/plain": [
              "    reassignment_count  reopen_count  sys_mod_count  made_sla    caller_id  \\\n",
              "4                    0             0              0      True  Caller 2403   \n",
              "20                   0             0              0      True  Caller 4491   \n",
              "40                   0             0              0      True  Caller 2838   \n",
              "41                   0             0              1      True  Caller 2838   \n",
              "49                   0             0              0      True  Caller 5323   \n",
              "\n",
              "         opened_by  sys_updated_by contact_type      location     category  \\\n",
              "4   Opened by  397  Updated by 746        Phone  Location 165  Category 40   \n",
              "20  Opened by  180  Updated by 340        Phone  Location 204   Category 9   \n",
              "40  Opened by  131  Updated by 265        Phone  Location 143  Category 53   \n",
              "41  Opened by  131  Updated by 265        Phone  Location 143  Category 53   \n",
              "49  Opened by  131  Updated by 265        Phone  Location 108  Category 44   \n",
              "\n",
              "        subcategory    u_symptom      priority assignment_group   assigned_to  \\\n",
              "4   Subcategory 215  Symptom 471  3 - Moderate         Group 70   Resolver 89   \n",
              "20   Subcategory 97  Symptom 450  3 - Moderate         Group 25  Resolver 125   \n",
              "40  Subcategory 168  Symptom 580  3 - Moderate         Group 70   Resolver 78   \n",
              "41  Subcategory 168  Symptom 580  3 - Moderate         Group 70   Resolver 78   \n",
              "49  Subcategory 229  Symptom 580  3 - Moderate          Group 5  Resolver 216   \n",
              "\n",
              "    knowledge  u_priority_confirmation closed_code   completion_days  \n",
              "4        True                    False      code 5  95 days 05:20:00  \n",
              "20       True                    False      code 3 125 days 06:22:00  \n",
              "40       True                    False      code 6 156 days 09:50:00  \n",
              "41       True                    False      code 6 156 days 09:50:00  \n",
              "49       True                    False      code 1 125 days 08:22:00  "
            ],
            "text/html": [
              "\n",
              "  <div id=\"df-83d8b810-1d11-4814-a8b4-8ba23c4099cd\">\n",
              "    <div class=\"colab-df-container\">\n",
              "      <div>\n",
              "<style scoped>\n",
              "    .dataframe tbody tr th:only-of-type {\n",
              "        vertical-align: middle;\n",
              "    }\n",
              "\n",
              "    .dataframe tbody tr th {\n",
              "        vertical-align: top;\n",
              "    }\n",
              "\n",
              "    .dataframe thead th {\n",
              "        text-align: right;\n",
              "    }\n",
              "</style>\n",
              "<table border=\"1\" class=\"dataframe\">\n",
              "  <thead>\n",
              "    <tr style=\"text-align: right;\">\n",
              "      <th></th>\n",
              "      <th>reassignment_count</th>\n",
              "      <th>reopen_count</th>\n",
              "      <th>sys_mod_count</th>\n",
              "      <th>made_sla</th>\n",
              "      <th>caller_id</th>\n",
              "      <th>opened_by</th>\n",
              "      <th>sys_updated_by</th>\n",
              "      <th>contact_type</th>\n",
              "      <th>location</th>\n",
              "      <th>category</th>\n",
              "      <th>subcategory</th>\n",
              "      <th>u_symptom</th>\n",
              "      <th>priority</th>\n",
              "      <th>assignment_group</th>\n",
              "      <th>assigned_to</th>\n",
              "      <th>knowledge</th>\n",
              "      <th>u_priority_confirmation</th>\n",
              "      <th>closed_code</th>\n",
              "      <th>completion_days</th>\n",
              "    </tr>\n",
              "  </thead>\n",
              "  <tbody>\n",
              "    <tr>\n",
              "      <th>4</th>\n",
              "      <td>0</td>\n",
              "      <td>0</td>\n",
              "      <td>0</td>\n",
              "      <td>True</td>\n",
              "      <td>Caller 2403</td>\n",
              "      <td>Opened by  397</td>\n",
              "      <td>Updated by 746</td>\n",
              "      <td>Phone</td>\n",
              "      <td>Location 165</td>\n",
              "      <td>Category 40</td>\n",
              "      <td>Subcategory 215</td>\n",
              "      <td>Symptom 471</td>\n",
              "      <td>3 - Moderate</td>\n",
              "      <td>Group 70</td>\n",
              "      <td>Resolver 89</td>\n",
              "      <td>True</td>\n",
              "      <td>False</td>\n",
              "      <td>code 5</td>\n",
              "      <td>95 days 05:20:00</td>\n",
              "    </tr>\n",
              "    <tr>\n",
              "      <th>20</th>\n",
              "      <td>0</td>\n",
              "      <td>0</td>\n",
              "      <td>0</td>\n",
              "      <td>True</td>\n",
              "      <td>Caller 4491</td>\n",
              "      <td>Opened by  180</td>\n",
              "      <td>Updated by 340</td>\n",
              "      <td>Phone</td>\n",
              "      <td>Location 204</td>\n",
              "      <td>Category 9</td>\n",
              "      <td>Subcategory 97</td>\n",
              "      <td>Symptom 450</td>\n",
              "      <td>3 - Moderate</td>\n",
              "      <td>Group 25</td>\n",
              "      <td>Resolver 125</td>\n",
              "      <td>True</td>\n",
              "      <td>False</td>\n",
              "      <td>code 3</td>\n",
              "      <td>125 days 06:22:00</td>\n",
              "    </tr>\n",
              "    <tr>\n",
              "      <th>40</th>\n",
              "      <td>0</td>\n",
              "      <td>0</td>\n",
              "      <td>0</td>\n",
              "      <td>True</td>\n",
              "      <td>Caller 2838</td>\n",
              "      <td>Opened by  131</td>\n",
              "      <td>Updated by 265</td>\n",
              "      <td>Phone</td>\n",
              "      <td>Location 143</td>\n",
              "      <td>Category 53</td>\n",
              "      <td>Subcategory 168</td>\n",
              "      <td>Symptom 580</td>\n",
              "      <td>3 - Moderate</td>\n",
              "      <td>Group 70</td>\n",
              "      <td>Resolver 78</td>\n",
              "      <td>True</td>\n",
              "      <td>False</td>\n",
              "      <td>code 6</td>\n",
              "      <td>156 days 09:50:00</td>\n",
              "    </tr>\n",
              "    <tr>\n",
              "      <th>41</th>\n",
              "      <td>0</td>\n",
              "      <td>0</td>\n",
              "      <td>1</td>\n",
              "      <td>True</td>\n",
              "      <td>Caller 2838</td>\n",
              "      <td>Opened by  131</td>\n",
              "      <td>Updated by 265</td>\n",
              "      <td>Phone</td>\n",
              "      <td>Location 143</td>\n",
              "      <td>Category 53</td>\n",
              "      <td>Subcategory 168</td>\n",
              "      <td>Symptom 580</td>\n",
              "      <td>3 - Moderate</td>\n",
              "      <td>Group 70</td>\n",
              "      <td>Resolver 78</td>\n",
              "      <td>True</td>\n",
              "      <td>False</td>\n",
              "      <td>code 6</td>\n",
              "      <td>156 days 09:50:00</td>\n",
              "    </tr>\n",
              "    <tr>\n",
              "      <th>49</th>\n",
              "      <td>0</td>\n",
              "      <td>0</td>\n",
              "      <td>0</td>\n",
              "      <td>True</td>\n",
              "      <td>Caller 5323</td>\n",
              "      <td>Opened by  131</td>\n",
              "      <td>Updated by 265</td>\n",
              "      <td>Phone</td>\n",
              "      <td>Location 108</td>\n",
              "      <td>Category 44</td>\n",
              "      <td>Subcategory 229</td>\n",
              "      <td>Symptom 580</td>\n",
              "      <td>3 - Moderate</td>\n",
              "      <td>Group 5</td>\n",
              "      <td>Resolver 216</td>\n",
              "      <td>True</td>\n",
              "      <td>False</td>\n",
              "      <td>code 1</td>\n",
              "      <td>125 days 08:22:00</td>\n",
              "    </tr>\n",
              "  </tbody>\n",
              "</table>\n",
              "</div>\n",
              "      <button class=\"colab-df-convert\" onclick=\"convertToInteractive('df-83d8b810-1d11-4814-a8b4-8ba23c4099cd')\"\n",
              "              title=\"Convert this dataframe to an interactive table.\"\n",
              "              style=\"display:none;\">\n",
              "        \n",
              "  <svg xmlns=\"http://www.w3.org/2000/svg\" height=\"24px\"viewBox=\"0 0 24 24\"\n",
              "       width=\"24px\">\n",
              "    <path d=\"M0 0h24v24H0V0z\" fill=\"none\"/>\n",
              "    <path d=\"M18.56 5.44l.94 2.06.94-2.06 2.06-.94-2.06-.94-.94-2.06-.94 2.06-2.06.94zm-11 1L8.5 8.5l.94-2.06 2.06-.94-2.06-.94L8.5 2.5l-.94 2.06-2.06.94zm10 10l.94 2.06.94-2.06 2.06-.94-2.06-.94-.94-2.06-.94 2.06-2.06.94z\"/><path d=\"M17.41 7.96l-1.37-1.37c-.4-.4-.92-.59-1.43-.59-.52 0-1.04.2-1.43.59L10.3 9.45l-7.72 7.72c-.78.78-.78 2.05 0 2.83L4 21.41c.39.39.9.59 1.41.59.51 0 1.02-.2 1.41-.59l7.78-7.78 2.81-2.81c.8-.78.8-2.07 0-2.86zM5.41 20L4 18.59l7.72-7.72 1.47 1.35L5.41 20z\"/>\n",
              "  </svg>\n",
              "      </button>\n",
              "      \n",
              "  <style>\n",
              "    .colab-df-container {\n",
              "      display:flex;\n",
              "      flex-wrap:wrap;\n",
              "      gap: 12px;\n",
              "    }\n",
              "\n",
              "    .colab-df-convert {\n",
              "      background-color: #E8F0FE;\n",
              "      border: none;\n",
              "      border-radius: 50%;\n",
              "      cursor: pointer;\n",
              "      display: none;\n",
              "      fill: #1967D2;\n",
              "      height: 32px;\n",
              "      padding: 0 0 0 0;\n",
              "      width: 32px;\n",
              "    }\n",
              "\n",
              "    .colab-df-convert:hover {\n",
              "      background-color: #E2EBFA;\n",
              "      box-shadow: 0px 1px 2px rgba(60, 64, 67, 0.3), 0px 1px 3px 1px rgba(60, 64, 67, 0.15);\n",
              "      fill: #174EA6;\n",
              "    }\n",
              "\n",
              "    [theme=dark] .colab-df-convert {\n",
              "      background-color: #3B4455;\n",
              "      fill: #D2E3FC;\n",
              "    }\n",
              "\n",
              "    [theme=dark] .colab-df-convert:hover {\n",
              "      background-color: #434B5C;\n",
              "      box-shadow: 0px 1px 3px 1px rgba(0, 0, 0, 0.15);\n",
              "      filter: drop-shadow(0px 1px 2px rgba(0, 0, 0, 0.3));\n",
              "      fill: #FFFFFF;\n",
              "    }\n",
              "  </style>\n",
              "\n",
              "      <script>\n",
              "        const buttonEl =\n",
              "          document.querySelector('#df-83d8b810-1d11-4814-a8b4-8ba23c4099cd button.colab-df-convert');\n",
              "        buttonEl.style.display =\n",
              "          google.colab.kernel.accessAllowed ? 'block' : 'none';\n",
              "\n",
              "        async function convertToInteractive(key) {\n",
              "          const element = document.querySelector('#df-83d8b810-1d11-4814-a8b4-8ba23c4099cd');\n",
              "          const dataTable =\n",
              "            await google.colab.kernel.invokeFunction('convertToInteractive',\n",
              "                                                     [key], {});\n",
              "          if (!dataTable) return;\n",
              "\n",
              "          const docLinkHtml = 'Like what you see? Visit the ' +\n",
              "            '<a target=\"_blank\" href=https://colab.research.google.com/notebooks/data_table.ipynb>data table notebook</a>'\n",
              "            + ' to learn more about interactive tables.';\n",
              "          element.innerHTML = '';\n",
              "          dataTable['output_type'] = 'display_data';\n",
              "          await google.colab.output.renderOutput(dataTable, element);\n",
              "          const docLink = document.createElement('div');\n",
              "          docLink.innerHTML = docLinkHtml;\n",
              "          element.appendChild(docLink);\n",
              "        }\n",
              "      </script>\n",
              "    </div>\n",
              "  </div>\n",
              "  "
            ]
          },
          "metadata": {},
          "execution_count": 55
        }
      ]
    },
    {
      "cell_type": "markdown",
      "source": [
        "\n",
        "Сега трябва предвидим приоритета на инцидентите въз основа на някои характеристики. Изборът на функции се основава на личен опит в индустрията на ИТ услугите."
      ],
      "metadata": {
        "id": "IJGvS6e-XCyv"
      }
    },
    {
      "cell_type": "code",
      "source": [
        "df_new.columns"
      ],
      "metadata": {
        "colab": {
          "base_uri": "https://localhost:8080/"
        },
        "id": "bdUr2kFGXN-D",
        "outputId": "f6030840-e057-418a-eeee-7c4ba0d6ac69"
      },
      "execution_count": null,
      "outputs": [
        {
          "output_type": "stream",
          "name": "stderr",
          "text": [
            "/usr/local/lib/python3.10/dist-packages/ipykernel/ipkernel.py:283: DeprecationWarning: `should_run_async` will not call `transform_cell` automatically in the future. Please pass the result to `transformed_cell` argument and any exception that happen during thetransform in `preprocessing_exc_tuple` in IPython 7.17 and above.\n",
            "  and should_run_async(code)\n"
          ]
        },
        {
          "output_type": "execute_result",
          "data": {
            "text/plain": [
              "Index(['reassignment_count', 'reopen_count', 'sys_mod_count', 'made_sla',\n",
              "       'caller_id', 'opened_by', 'sys_updated_by', 'contact_type', 'location',\n",
              "       'category', 'subcategory', 'u_symptom', 'priority', 'assignment_group',\n",
              "       'assigned_to', 'knowledge', 'u_priority_confirmation', 'closed_code',\n",
              "       'completion_days'],\n",
              "      dtype='object')"
            ]
          },
          "metadata": {},
          "execution_count": 52
        }
      ]
    },
    {
      "cell_type": "code",
      "source": [
        "X = df_new[['caller_id', 'opened_by', 'sys_updated_by', 'contact_type', 'location', 'category', 'subcategory', 'u_symptom','u_priority_confirmation']]\n",
        "y = df_new[['priority']]"
      ],
      "metadata": {
        "id": "B5xIg1gwXVIT"
      },
      "execution_count": null,
      "outputs": []
    },
    {
      "cell_type": "markdown",
      "source": [
        "**Създаване на модел**"
      ],
      "metadata": {
        "id": "uRavZH6-XZTJ"
      }
    },
    {
      "cell_type": "markdown",
      "source": [
        "За тестване на нашия модел ще използваме test_train_split, за да разделим данните в съотношение 70:30.\n",
        "\n",
        "Резултатът от точността ще определи ефективността на модела"
      ],
      "metadata": {
        "id": "izzTldF_XhrS"
      }
    },
    {
      "cell_type": "code",
      "source": [
        "from sklearn.preprocessing import LabelEncoder, StandardScaler\n",
        "from sklearn.model_selection import train_test_split\n",
        "from sklearn.metrics import accuracy_score, classification_report, confusion_matrix,f1_score"
      ],
      "metadata": {
        "id": "sgS8IcIicKfM"
      },
      "execution_count": null,
      "outputs": []
    },
    {
      "cell_type": "code",
      "source": [
        "pd.options.mode.chained_assignment = None"
      ],
      "metadata": {
        "id": "qdSNBoVucM8e"
      },
      "execution_count": null,
      "outputs": []
    },
    {
      "cell_type": "markdown",
      "source": [
        "**Числено кодиране на данните**"
      ],
      "metadata": {
        "id": "WOeyCidOcSs2"
      }
    },
    {
      "cell_type": "code",
      "source": [
        "#Numerical encoding\n",
        "for col in ['caller_id', 'opened_by', 'sys_updated_by', 'location', 'category', 'subcategory','u_symptom']:\n",
        "    X[col] = X[col].str.extract('(\\\\d+)').astype(np.int64)\n",
        "\n",
        "# Label Encoding\n",
        "enc= LabelEncoder()\n",
        "for col in ['u_priority_confirmation', 'contact_type']:\n",
        "    X.loc[:,col] = enc.fit_transform(X.loc[:,col])\n",
        "y['priority'] = enc.fit_transform(y['priority'] ).astype(np.int64)"
      ],
      "metadata": {
        "id": "fPYflU4TcTi4"
      },
      "execution_count": null,
      "outputs": []
    },
    {
      "cell_type": "code",
      "source": [
        "X.head()"
      ],
      "metadata": {
        "colab": {
          "base_uri": "https://localhost:8080/",
          "height": 206
        },
        "id": "XJXKvmZkcePE",
        "outputId": "32275e8c-58e8-4110-db7d-d620796bc3a4"
      },
      "execution_count": null,
      "outputs": [
        {
          "output_type": "execute_result",
          "data": {
            "text/plain": [
              "    caller_id  opened_by  sys_updated_by  contact_type  location  category  \\\n",
              "4        2403        397             746             1       165        40   \n",
              "20       4491        180             340             1       204         9   \n",
              "40       2838        131             265             1       143        53   \n",
              "41       2838        131             265             1       143        53   \n",
              "49       5323        131             265             1       108        44   \n",
              "\n",
              "    subcategory  u_symptom  u_priority_confirmation  \n",
              "4           215        471                        0  \n",
              "20           97        450                        0  \n",
              "40          168        580                        0  \n",
              "41          168        580                        0  \n",
              "49          229        580                        0  "
            ],
            "text/html": [
              "\n",
              "  <div id=\"df-bb50f0fa-7ef1-468b-971b-1112d3b186dc\">\n",
              "    <div class=\"colab-df-container\">\n",
              "      <div>\n",
              "<style scoped>\n",
              "    .dataframe tbody tr th:only-of-type {\n",
              "        vertical-align: middle;\n",
              "    }\n",
              "\n",
              "    .dataframe tbody tr th {\n",
              "        vertical-align: top;\n",
              "    }\n",
              "\n",
              "    .dataframe thead th {\n",
              "        text-align: right;\n",
              "    }\n",
              "</style>\n",
              "<table border=\"1\" class=\"dataframe\">\n",
              "  <thead>\n",
              "    <tr style=\"text-align: right;\">\n",
              "      <th></th>\n",
              "      <th>caller_id</th>\n",
              "      <th>opened_by</th>\n",
              "      <th>sys_updated_by</th>\n",
              "      <th>contact_type</th>\n",
              "      <th>location</th>\n",
              "      <th>category</th>\n",
              "      <th>subcategory</th>\n",
              "      <th>u_symptom</th>\n",
              "      <th>u_priority_confirmation</th>\n",
              "    </tr>\n",
              "  </thead>\n",
              "  <tbody>\n",
              "    <tr>\n",
              "      <th>4</th>\n",
              "      <td>2403</td>\n",
              "      <td>397</td>\n",
              "      <td>746</td>\n",
              "      <td>1</td>\n",
              "      <td>165</td>\n",
              "      <td>40</td>\n",
              "      <td>215</td>\n",
              "      <td>471</td>\n",
              "      <td>0</td>\n",
              "    </tr>\n",
              "    <tr>\n",
              "      <th>20</th>\n",
              "      <td>4491</td>\n",
              "      <td>180</td>\n",
              "      <td>340</td>\n",
              "      <td>1</td>\n",
              "      <td>204</td>\n",
              "      <td>9</td>\n",
              "      <td>97</td>\n",
              "      <td>450</td>\n",
              "      <td>0</td>\n",
              "    </tr>\n",
              "    <tr>\n",
              "      <th>40</th>\n",
              "      <td>2838</td>\n",
              "      <td>131</td>\n",
              "      <td>265</td>\n",
              "      <td>1</td>\n",
              "      <td>143</td>\n",
              "      <td>53</td>\n",
              "      <td>168</td>\n",
              "      <td>580</td>\n",
              "      <td>0</td>\n",
              "    </tr>\n",
              "    <tr>\n",
              "      <th>41</th>\n",
              "      <td>2838</td>\n",
              "      <td>131</td>\n",
              "      <td>265</td>\n",
              "      <td>1</td>\n",
              "      <td>143</td>\n",
              "      <td>53</td>\n",
              "      <td>168</td>\n",
              "      <td>580</td>\n",
              "      <td>0</td>\n",
              "    </tr>\n",
              "    <tr>\n",
              "      <th>49</th>\n",
              "      <td>5323</td>\n",
              "      <td>131</td>\n",
              "      <td>265</td>\n",
              "      <td>1</td>\n",
              "      <td>108</td>\n",
              "      <td>44</td>\n",
              "      <td>229</td>\n",
              "      <td>580</td>\n",
              "      <td>0</td>\n",
              "    </tr>\n",
              "  </tbody>\n",
              "</table>\n",
              "</div>\n",
              "      <button class=\"colab-df-convert\" onclick=\"convertToInteractive('df-bb50f0fa-7ef1-468b-971b-1112d3b186dc')\"\n",
              "              title=\"Convert this dataframe to an interactive table.\"\n",
              "              style=\"display:none;\">\n",
              "        \n",
              "  <svg xmlns=\"http://www.w3.org/2000/svg\" height=\"24px\"viewBox=\"0 0 24 24\"\n",
              "       width=\"24px\">\n",
              "    <path d=\"M0 0h24v24H0V0z\" fill=\"none\"/>\n",
              "    <path d=\"M18.56 5.44l.94 2.06.94-2.06 2.06-.94-2.06-.94-.94-2.06-.94 2.06-2.06.94zm-11 1L8.5 8.5l.94-2.06 2.06-.94-2.06-.94L8.5 2.5l-.94 2.06-2.06.94zm10 10l.94 2.06.94-2.06 2.06-.94-2.06-.94-.94-2.06-.94 2.06-2.06.94z\"/><path d=\"M17.41 7.96l-1.37-1.37c-.4-.4-.92-.59-1.43-.59-.52 0-1.04.2-1.43.59L10.3 9.45l-7.72 7.72c-.78.78-.78 2.05 0 2.83L4 21.41c.39.39.9.59 1.41.59.51 0 1.02-.2 1.41-.59l7.78-7.78 2.81-2.81c.8-.78.8-2.07 0-2.86zM5.41 20L4 18.59l7.72-7.72 1.47 1.35L5.41 20z\"/>\n",
              "  </svg>\n",
              "      </button>\n",
              "      \n",
              "  <style>\n",
              "    .colab-df-container {\n",
              "      display:flex;\n",
              "      flex-wrap:wrap;\n",
              "      gap: 12px;\n",
              "    }\n",
              "\n",
              "    .colab-df-convert {\n",
              "      background-color: #E8F0FE;\n",
              "      border: none;\n",
              "      border-radius: 50%;\n",
              "      cursor: pointer;\n",
              "      display: none;\n",
              "      fill: #1967D2;\n",
              "      height: 32px;\n",
              "      padding: 0 0 0 0;\n",
              "      width: 32px;\n",
              "    }\n",
              "\n",
              "    .colab-df-convert:hover {\n",
              "      background-color: #E2EBFA;\n",
              "      box-shadow: 0px 1px 2px rgba(60, 64, 67, 0.3), 0px 1px 3px 1px rgba(60, 64, 67, 0.15);\n",
              "      fill: #174EA6;\n",
              "    }\n",
              "\n",
              "    [theme=dark] .colab-df-convert {\n",
              "      background-color: #3B4455;\n",
              "      fill: #D2E3FC;\n",
              "    }\n",
              "\n",
              "    [theme=dark] .colab-df-convert:hover {\n",
              "      background-color: #434B5C;\n",
              "      box-shadow: 0px 1px 3px 1px rgba(0, 0, 0, 0.15);\n",
              "      filter: drop-shadow(0px 1px 2px rgba(0, 0, 0, 0.3));\n",
              "      fill: #FFFFFF;\n",
              "    }\n",
              "  </style>\n",
              "\n",
              "      <script>\n",
              "        const buttonEl =\n",
              "          document.querySelector('#df-bb50f0fa-7ef1-468b-971b-1112d3b186dc button.colab-df-convert');\n",
              "        buttonEl.style.display =\n",
              "          google.colab.kernel.accessAllowed ? 'block' : 'none';\n",
              "\n",
              "        async function convertToInteractive(key) {\n",
              "          const element = document.querySelector('#df-bb50f0fa-7ef1-468b-971b-1112d3b186dc');\n",
              "          const dataTable =\n",
              "            await google.colab.kernel.invokeFunction('convertToInteractive',\n",
              "                                                     [key], {});\n",
              "          if (!dataTable) return;\n",
              "\n",
              "          const docLinkHtml = 'Like what you see? Visit the ' +\n",
              "            '<a target=\"_blank\" href=https://colab.research.google.com/notebooks/data_table.ipynb>data table notebook</a>'\n",
              "            + ' to learn more about interactive tables.';\n",
              "          element.innerHTML = '';\n",
              "          dataTable['output_type'] = 'display_data';\n",
              "          await google.colab.output.renderOutput(dataTable, element);\n",
              "          const docLink = document.createElement('div');\n",
              "          docLink.innerHTML = docLinkHtml;\n",
              "          element.appendChild(docLink);\n",
              "        }\n",
              "      </script>\n",
              "    </div>\n",
              "  </div>\n",
              "  "
            ]
          },
          "metadata": {},
          "execution_count": 26
        }
      ]
    },
    {
      "cell_type": "code",
      "source": [
        "X_train, X_test, y_train, y_test = train_test_split(X,y,test_size=0.3,random_state=20)"
      ],
      "metadata": {
        "id": "7VU9mZojcoUW"
      },
      "execution_count": null,
      "outputs": []
    },
    {
      "cell_type": "code",
      "source": [
        "import warnings\n",
        "warnings.filterwarnings('always') "
      ],
      "metadata": {
        "id": "KLo6UcV6czS6"
      },
      "execution_count": null,
      "outputs": []
    },
    {
      "cell_type": "code",
      "source": [
        "print(f' The baseline of accuracy is {accuracy_score(y_test, np.full(y_test.shape, 3))}')\n",
        "print(classification_report(y_test,np.full(y_test.shape, 3)))"
      ],
      "metadata": {
        "colab": {
          "base_uri": "https://localhost:8080/"
        },
        "id": "3opUm0MAc4GK",
        "outputId": "fc49c353-2754-4cb6-b1d1-95a83aacbe3f"
      },
      "execution_count": null,
      "outputs": [
        {
          "output_type": "stream",
          "name": "stdout",
          "text": [
            " The baseline of accuracy is 0.030561012879284\n",
            "              precision    recall  f1-score   support\n",
            "\n",
            "           0       0.00      0.00      0.00        64\n",
            "           1       0.00      0.00      0.00       149\n",
            "           2       0.00      0.00      0.00      4228\n",
            "           3       0.03      1.00      0.06       140\n",
            "\n",
            "    accuracy                           0.03      4581\n",
            "   macro avg       0.01      0.25      0.01      4581\n",
            "weighted avg       0.00      0.03      0.00      4581\n",
            "\n"
          ]
        },
        {
          "output_type": "stream",
          "name": "stderr",
          "text": [
            "/usr/local/lib/python3.10/dist-packages/ipykernel/ipkernel.py:283: DeprecationWarning: `should_run_async` will not call `transform_cell` automatically in the future. Please pass the result to `transformed_cell` argument and any exception that happen during thetransform in `preprocessing_exc_tuple` in IPython 7.17 and above.\n",
            "  and should_run_async(code)\n",
            "/usr/local/lib/python3.10/dist-packages/sklearn/metrics/_classification.py:1344: UndefinedMetricWarning: Precision and F-score are ill-defined and being set to 0.0 in labels with no predicted samples. Use `zero_division` parameter to control this behavior.\n",
            "  _warn_prf(average, modifier, msg_start, len(result))\n",
            "/usr/local/lib/python3.10/dist-packages/sklearn/metrics/_classification.py:1344: UndefinedMetricWarning: Precision and F-score are ill-defined and being set to 0.0 in labels with no predicted samples. Use `zero_division` parameter to control this behavior.\n",
            "  _warn_prf(average, modifier, msg_start, len(result))\n",
            "/usr/local/lib/python3.10/dist-packages/sklearn/metrics/_classification.py:1344: UndefinedMetricWarning: Precision and F-score are ill-defined and being set to 0.0 in labels with no predicted samples. Use `zero_division` parameter to control this behavior.\n",
            "  _warn_prf(average, modifier, msg_start, len(result))\n"
          ]
        }
      ]
    },
    {
      "cell_type": "markdown",
      "source": [
        "Базовата линия на точност е 0,030561012879284"
      ],
      "metadata": {
        "id": "Iubd3DHPdCxA"
      }
    },
    {
      "cell_type": "code",
      "source": [
        "y_train.priority.value_counts()"
      ],
      "metadata": {
        "colab": {
          "base_uri": "https://localhost:8080/"
        },
        "id": "9VoWC8sQdECe",
        "outputId": "961db698-8f3c-4bbc-b62c-dec7f7e36fc2"
      },
      "execution_count": null,
      "outputs": [
        {
          "output_type": "stream",
          "name": "stderr",
          "text": [
            "/usr/local/lib/python3.10/dist-packages/ipykernel/ipkernel.py:283: DeprecationWarning: `should_run_async` will not call `transform_cell` automatically in the future. Please pass the result to `transformed_cell` argument and any exception that happen during thetransform in `preprocessing_exc_tuple` in IPython 7.17 and above.\n",
            "  and should_run_async(code)\n"
          ]
        },
        {
          "output_type": "execute_result",
          "data": {
            "text/plain": [
              "2    9879\n",
              "1     323\n",
              "3     310\n",
              "0     175\n",
              "Name: priority, dtype: int64"
            ]
          },
          "metadata": {},
          "execution_count": 30
        }
      ]
    },
    {
      "cell_type": "markdown",
      "source": [
        "Тъй като може да се види, че приоритет = 3 е непропорционално представен, имам нужда от някакъв механизъм за увеличаване на градиента.\n",
        "\n",
        "Ще използваме класификатор за усилване на градиента, за да изградим или моделираме и ще базираме нашата прогноза на това."
      ],
      "metadata": {
        "id": "AIxyKOa7dLka"
      }
    },
    {
      "cell_type": "code",
      "source": [
        "from xgboost import XGBClassifier\n",
        "from sklearn.model_selection import GridSearchCV\n",
        "from sklearn.metrics import f1_score"
      ],
      "metadata": {
        "id": "gyC8LfEedQVc"
      },
      "execution_count": null,
      "outputs": []
    },
    {
      "cell_type": "code",
      "source": [
        "m_xgb = XGBClassifier()\n",
        "m_xgb.fit(X_train, y_train)\n",
        "y_predict_xgb = m_xgb.predict(X_test)"
      ],
      "metadata": {
        "colab": {
          "base_uri": "https://localhost:8080/"
        },
        "id": "oTbnM7AadW0x",
        "outputId": "c2cca2f0-e16e-4ad3-d476-2fbbd6d43289"
      },
      "execution_count": null,
      "outputs": [
        {
          "output_type": "stream",
          "name": "stderr",
          "text": [
            "/usr/local/lib/python3.10/dist-packages/ipykernel/ipkernel.py:283: DeprecationWarning: `should_run_async` will not call `transform_cell` automatically in the future. Please pass the result to `transformed_cell` argument and any exception that happen during thetransform in `preprocessing_exc_tuple` in IPython 7.17 and above.\n",
            "  and should_run_async(code)\n"
          ]
        }
      ]
    },
    {
      "cell_type": "code",
      "source": [
        "y_predict_xgb = m_xgb.predict(X_test)\n",
        "\n",
        "#The final report is:\n",
        "f1 = f1_score(y_test,y_predict_xgb,average='macro')\n",
        "print(f'The macro F1 score for initial XGB model:{f1}')\n",
        "print(classification_report(y_test,y_predict_xgb))"
      ],
      "metadata": {
        "colab": {
          "base_uri": "https://localhost:8080/"
        },
        "id": "G-Gx6EgRdadF",
        "outputId": "f2f9ad8f-a0fc-41fc-beb8-93afcb82ab9d"
      },
      "execution_count": null,
      "outputs": [
        {
          "output_type": "stream",
          "name": "stdout",
          "text": [
            "The macro F1 score for initial XGB model:0.8136550631515472\n",
            "              precision    recall  f1-score   support\n",
            "\n",
            "           0       0.89      0.64      0.75        64\n",
            "           1       0.88      0.60      0.72       149\n",
            "           2       0.97      1.00      0.98      4228\n",
            "           3       0.94      0.71      0.81       140\n",
            "\n",
            "    accuracy                           0.97      4581\n",
            "   macro avg       0.92      0.74      0.81      4581\n",
            "weighted avg       0.97      0.97      0.97      4581\n",
            "\n"
          ]
        },
        {
          "output_type": "stream",
          "name": "stderr",
          "text": [
            "/usr/local/lib/python3.10/dist-packages/ipykernel/ipkernel.py:283: DeprecationWarning: `should_run_async` will not call `transform_cell` automatically in the future. Please pass the result to `transformed_cell` argument and any exception that happen during thetransform in `preprocessing_exc_tuple` in IPython 7.17 and above.\n",
            "  and should_run_async(code)\n"
          ]
        }
      ]
    },
    {
      "cell_type": "markdown",
      "source": [
        "Това изглежда вече е доста добър резултат!"
      ],
      "metadata": {
        "id": "In5h5YaLdg75"
      }
    },
    {
      "cell_type": "code",
      "source": [
        "class_weights = list(class_weight.compute_class_weight(class_weight='balanced',classes=np.unique(y_train), y=y_train['priority']))\n",
        "\n",
        "\n",
        "weights_array = np.ones(y_train.shape[0], dtype = 'float')\n",
        "for i, val in enumerate(y_train['priority']):\n",
        "    weights_array[i] = class_weights[val-1]\n",
        "\n",
        "xgb_weighted_model = XGBClassifier()   \n",
        "xgb_weighted_model.fit(X_train, y_train,sample_weight=weights_array)"
      ],
      "metadata": {
        "id": "Xmt7FR2YpOeH"
      },
      "execution_count": null,
      "outputs": []
    },
    {
      "cell_type": "code",
      "source": [
        "y_predict_weighted = xgb_weighted_model.predict(X_test) \n",
        "f1 = f1_score(y_test,y_predict_weighted,average='macro')\n",
        "\n",
        "print(f'The F1 score for the Weighted model:{f1}')\n",
        "print(classification_report(y_test,y_predict_weighted))"
      ],
      "metadata": {
        "id": "wqQIOE6vpPe6"
      },
      "execution_count": null,
      "outputs": []
    }
  ]
}